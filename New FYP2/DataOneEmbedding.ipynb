{
 "cells": [
  {
   "cell_type": "code",
   "execution_count": 1,
   "metadata": {},
   "outputs": [
    {
     "name": "stderr",
     "output_type": "stream",
     "text": [
      "d:\\python\\Lib\\site-packages\\sentence_transformers\\cross_encoder\\CrossEncoder.py:11: TqdmWarning: IProgress not found. Please update jupyter and ipywidgets. See https://ipywidgets.readthedocs.io/en/stable/user_install.html\n",
      "  from tqdm.autonotebook import tqdm, trange\n"
     ]
    },
    {
     "data": {
      "text/plain": [
       "(2088, 95)"
      ]
     },
     "execution_count": 1,
     "metadata": {},
     "output_type": "execute_result"
    }
   ],
   "source": [
    "import pandas as pd\n",
    "import numpy as np # linear algebra\n",
    "from sentence_transformers import SentenceTransformer\n",
    "# Replace 'path_to_dataset' with the actual path to your dataset file\n",
    "df = pd.read_excel('LastDataset1(neww).xlsx')\n",
    "df.shape"
   ]
  },
  {
   "cell_type": "code",
   "execution_count": null,
   "metadata": {},
   "outputs": [],
   "source": [
    "!pip install sentence_transformers"
   ]
  },
  {
   "cell_type": "code",
   "execution_count": 9,
   "metadata": {},
   "outputs": [
    {
     "name": "stderr",
     "output_type": "stream",
     "text": [
      "Batches: 100%|██████████| 66/66 [00:33<00:00,  1.96it/s]\n"
     ]
    }
   ],
   "source": [
    "from sentence_transformers import SentenceTransformer\n",
    "def compile_text(x):\n",
    "    text = f\"\"\"\n",
    "              Faculty_domain: {x['Faculty_domain']},\n",
    "              Employed_Company_Name: {x['Employed_Company_Name']},\n",
    "              Industry_sector: {x['Industry_sector']},\n",
    "              Employed_Company_district: {x['Employed_Company_district']},\n",
    "              Employed_Company_state: {x['Employed_Company_state']},\n",
    "              Employed_Company_Address: {x['Employed_Company_Address']},\n",
    "              Main_job_scope: {x['Main_job_scope']},\n",
    "              Main_job_Title: {x['Main_job_Title']},\n",
    "              Work_in_the_same_field_of_learning: {x['Work_in_the_same_field_of_learning']},\n",
    "              Faculty_Description: {x['Faculty_Description']},\n",
    "              JS_Job_sub_sector: {x['JS_Job_sub_sector']},\n",
    "              Employed_Company_lat: {x['Employed_Company_lat']},\n",
    "              Faculty: {x['Faculty']},\n",
    "              Program_Description: {x['Program_Description']},\n",
    "              Employed_Company_Postcode: {x['Employed_Company_Postcode']},\n",
    "              Economic_sector: {x['Economic_sector']},\n",
    "              Current_Job_scope: {x['Current_Job_scope']}\n",
    "          \"\"\"\n",
    "    return text\n",
    "\n",
    "sentences = df.apply(lambda x: compile_text(x), axis=1).tolist()\n",
    "model = SentenceTransformer(r\"sentence-transformers/paraphrase-MiniLM-L6-v2\")\n",
    "#sentence-transformers/paraphrase-mpnet-base-v2\n",
    "output = model.encode(sentences=sentences, show_progress_bar= True, normalize_embeddings  = True)\n",
    "\n",
    "df_embedding = pd.DataFrame(output)\n",
    "df_embedding\n",
    "\n",
    "\n",
    "df_embedding.to_csv(\"embedding_FirstStructureL6.csv\",index = False)"
   ]
  },
  {
   "cell_type": "code",
   "execution_count": 10,
   "metadata": {},
   "outputs": [
    {
     "name": "stderr",
     "output_type": "stream",
     "text": [
      "Batches: 100%|██████████| 66/66 [01:12<00:00,  1.11s/it]\n"
     ]
    }
   ],
   "source": [
    "from sentence_transformers import SentenceTransformer\n",
    "def compile_text(x):\n",
    "    text = f\"\"\"\n",
    "              Faculty_domain: {x['Faculty_domain']},\n",
    "              Employed_Company_Name: {x['Employed_Company_Name']},\n",
    "              Industry_sector: {x['Industry_sector']},\n",
    "              Employed_Company_district: {x['Employed_Company_district']},\n",
    "              Employed_Company_state: {x['Employed_Company_state']},\n",
    "              Employed_Company_Address: {x['Employed_Company_Address']},\n",
    "              Main_job_scope: {x['Main_job_scope']},\n",
    "              Main_job_Title: {x['Main_job_Title']},\n",
    "              Work_in_the_same_field_of_learning: {x['Work_in_the_same_field_of_learning']},\n",
    "              Faculty_Description: {x['Faculty_Description']},\n",
    "              JS_Job_sub_sector: {x['JS_Job_sub_sector']},\n",
    "              Employed_Company_lat: {x['Employed_Company_lat']},\n",
    "              Faculty: {x['Faculty']},\n",
    "              Program_Description: {x['Program_Description']},\n",
    "              Employed_Company_Postcode: {x['Employed_Company_Postcode']},\n",
    "              Economic_sector: {x['Economic_sector']},\n",
    "              Current_Job_scope: {x['Current_Job_scope']}\n",
    "          \"\"\"\n",
    "    return text\n",
    "\n",
    "sentences = df.apply(lambda x: compile_text(x), axis=1).tolist()\n",
    "model = SentenceTransformer(r\"sentence-transformers/paraphrase-multilingual-MiniLM-L12-v2\")\n",
    "#sentence-transformers/paraphrase-mpnet-base-v2\n",
    "output = model.encode(sentences=sentences, show_progress_bar= True, normalize_embeddings  = True)\n",
    "\n",
    "df_embedding = pd.DataFrame(output)\n",
    "df_embedding\n",
    "\n",
    "\n",
    "df_embedding.to_csv(\"embedding_FirstStructureL12.csv\",index = False)"
   ]
  },
  {
   "cell_type": "code",
   "execution_count": 11,
   "metadata": {},
   "outputs": [
    {
     "name": "stderr",
     "output_type": "stream",
     "text": [
      "Batches: 100%|██████████| 66/66 [00:35<00:00,  1.87it/s]\n"
     ]
    }
   ],
   "source": [
    "def compile_text(x):\n",
    "    text = f\"\"\"\n",
    "    The faculty domain is {x['Faculty_domain']}. The individual is employed by {x['Employed_Company_Name']}, which operates in the {x['Industry_sector']} sector. \n",
    "    The company is located in the district of {x['Employed_Company_district']} in the state of {x['Employed_Company_state']}. \n",
    "    The company's address is {x['Employed_Company_Address']}. The main job scope of the individual is {x['Main_job_scope']}, and their job title is {x['Main_job_Title']}. \n",
    "    They work in the same field of learning: {x['Work_in_the_same_field_of_learning']}. \n",
    "    The faculty description is {x['Faculty_Description']}. The job sub-sector is {x['JS_Job_sub_sector']}. \n",
    "    The company is located at a latitude of {x['Employed_Company_lat']}. The faculty is {x['Faculty']}. \n",
    "    The program description is {x['Program_Description']}. The company’s postcode is {x['Employed_Company_Postcode']}. \n",
    "    The economic sector is {x['Economic_sector']}, and the current job scope is {x['Current_Job_scope']}.\n",
    "    \"\"\"\n",
    "    return text\n",
    "\n",
    "\n",
    "sentences = df.apply(lambda x: compile_text(x), axis=1).tolist()\n",
    "model = SentenceTransformer(r\"sentence-transformers/paraphrase-MiniLM-L6-v2\")\n",
    "#sentence-transformers/paraphrase-mpnet-base-v2\n",
    "output = model.encode(sentences=sentences, show_progress_bar= True, normalize_embeddings  = True)\n",
    "\n",
    "df_embedding = pd.DataFrame(output)\n",
    "df_embedding\n",
    "\n",
    "\n",
    "df_embedding.to_csv(\"embedding_SecondStructureL6.csv\",index = False)"
   ]
  },
  {
   "cell_type": "code",
   "execution_count": 4,
   "metadata": {},
   "outputs": [],
   "source": [
    "def compile_text(x):\n",
    "    text = f\"\"\"\n",
    "    The faculty domain is {x['Faculty_domain']}. The individual is employed by {x['Employed_Company_Name']}, which operates in the {x['Industry_sector']} sector. \n",
    "    The main job scope of the individual is {x['Main_job_scope']}, and their job title is {x['Main_job_Title']}. \n",
    "    The company's address is {x['Employed_Company_Address']}. The company is located in the district of {x['Employed_Company_district']} in the state of {x['Employed_Company_state']}. \n",
    "    They work in the same field of learning: {x['Work_in_the_same_field_of_learning']}. \n",
    "    The faculty description is {x['Faculty_Description']}. The job sub-sector is {x['JS_Job_sub_sector']}. \n",
    "    The company is located at a latitude of {x['Employed_Company_lat']}. The faculty is {x['Faculty']}. \n",
    "    The program description is {x['Program_Description']}. The company’s postcode is {x['Employed_Company_Postcode']}. \n",
    "    The economic sector is {x['Economic_sector']}, and the current job scope is {x['Current_Job_scope']}.\n",
    "    \"\"\"\n",
    "    return text\n",
    "\n",
    "\n",
    "sentences = df.apply(lambda x: compile_text(x), axis=1).tolist()"
   ]
  },
  {
   "cell_type": "code",
   "execution_count": 5,
   "metadata": {},
   "outputs": [
    {
     "name": "stdout",
     "output_type": "stream",
     "text": [
      "\n",
      "    The faculty domain is LAW. The individual is employed by PAUL CHEAH ASSOCIATES, which operates in the Local company sector. \n",
      "    The main job scope of the individual is Professional, and their job title is Lawyer. \n",
      "    The company's address is A-9-8, 9TH FLOOR, MEGAN AVENUE 1, 189, JLN TUN RAZAK, 50400 KUALA LUMPUR, FEDERAL TERRITORY OF KUALA LUMPUR. The company is located in the district of Tiada Daerah - Kuala Lumpur in the state of KUALA LUMPUR. \n",
      "    They work in the same field of learning: Yes. \n",
      "    The faculty description is Faculty of Law. The job sub-sector is Lawyer/Legal Asst. \n",
      "    The company is located at a latitude of 3.162835. The faculty is FOL. \n",
      "    The program description is BACHELOR OF LAW (HONOURS). The company’s postcode is 50400. \n",
      "    The economic sector is Administrative activities and support services, and the current job scope is Temporary/parttime.\n",
      "    \n"
     ]
    }
   ],
   "source": [
    "for i in range(1):\n",
    "    print(sentences[i])"
   ]
  },
  {
   "cell_type": "code",
   "execution_count": 8,
   "metadata": {},
   "outputs": [
    {
     "name": "stderr",
     "output_type": "stream",
     "text": [
      "d:\\python\\Lib\\site-packages\\huggingface_hub\\file_download.py:1132: FutureWarning: `resume_download` is deprecated and will be removed in version 1.0.0. Downloads always resume when possible. If you want to force a new download, use `force_download=True`.\n",
      "  warnings.warn(\n",
      "Batches: 100%|██████████| 66/66 [01:09<00:00,  1.05s/it]\n"
     ]
    }
   ],
   "source": [
    "def compile_text(x):\n",
    "    text = f\"\"\"\n",
    "    The faculty domain is {x['Faculty_domain']}. The individual is employed by {x['Employed_Company_Name']}, which operates in the {x['Industry_sector']} sector. \n",
    "    The company is located in the district of {x['Employed_Company_district']} in the state of {x['Employed_Company_state']}. \n",
    "    The company's address is {x['Employed_Company_Address']}. The main job scope of the individual is {x['Main_job_scope']}, and their job title is {x['Main_job_Title']}. \n",
    "    They work in the same field of learning: {x['Work_in_the_same_field_of_learning']}. \n",
    "    The faculty description is {x['Faculty_Description']}. The job sub-sector is {x['JS_Job_sub_sector']}. \n",
    "    The company is located at a latitude of {x['Employed_Company_lat']}. The faculty is {x['Faculty']}. \n",
    "    The program description is {x['Program_Description']}. The company’s postcode is {x['Employed_Company_Postcode']}. \n",
    "    The economic sector is {x['Economic_sector']}, and the current job scope is {x['Current_Job_scope']}.\n",
    "    \"\"\"\n",
    "    return text\n",
    "\n",
    "\n",
    "sentences = df.apply(lambda x: compile_text(x), axis=1).tolist()\n",
    "model = SentenceTransformer(r\"sentence-transformers/paraphrase-multilingual-MiniLM-L12-v2\")\n",
    "#sentence-transformers/paraphrase-mpnet-base-v2\n",
    "output = model.encode(sentences=sentences, show_progress_bar= True, normalize_embeddings  = True)\n",
    "\n",
    "df_embedding = pd.DataFrame(output)\n",
    "df_embedding\n",
    "\n",
    "\n",
    "df_embedding.to_csv(\"embedding_SecondStructureL12.csv\",index = False)"
   ]
  },
  {
   "cell_type": "code",
   "execution_count": null,
   "metadata": {},
   "outputs": [],
   "source": [
    "!pip install tensorflow tensorflow-hub pandas\n"
   ]
  },
  {
   "cell_type": "code",
   "execution_count": 13,
   "metadata": {},
   "outputs": [
    {
     "name": "stdout",
     "output_type": "stream",
     "text": [
      "WARNING:tensorflow:From d:\\python\\Lib\\site-packages\\tf_keras\\src\\losses.py:2976: The name tf.losses.sparse_softmax_cross_entropy is deprecated. Please use tf.compat.v1.losses.sparse_softmax_cross_entropy instead.\n",
      "\n",
      "WARNING:tensorflow:From d:\\python\\Lib\\site-packages\\tensorflow_hub\\resolver.py:120: The name tf.gfile.MakeDirs is deprecated. Please use tf.io.gfile.makedirs instead.\n",
      "\n"
     ]
    },
    {
     "name": "stderr",
     "output_type": "stream",
     "text": [
      "WARNING:tensorflow:From d:\\python\\Lib\\site-packages\\tensorflow_hub\\resolver.py:120: The name tf.gfile.MakeDirs is deprecated. Please use tf.io.gfile.makedirs instead.\n",
      "\n"
     ]
    },
    {
     "name": "stdout",
     "output_type": "stream",
     "text": [
      "WARNING:tensorflow:From d:\\python\\Lib\\site-packages\\tensorflow_hub\\module_v2.py:126: The name tf.saved_model.load_v2 is deprecated. Please use tf.compat.v2.saved_model.load instead.\n",
      "\n"
     ]
    },
    {
     "name": "stderr",
     "output_type": "stream",
     "text": [
      "WARNING:tensorflow:From d:\\python\\Lib\\site-packages\\tensorflow_hub\\module_v2.py:126: The name tf.saved_model.load_v2 is deprecated. Please use tf.compat.v2.saved_model.load instead.\n",
      "\n"
     ]
    }
   ],
   "source": []
  },
  {
   "cell_type": "code",
   "execution_count": 2,
   "metadata": {},
   "outputs": [
    {
     "name": "stderr",
     "output_type": "stream",
     "text": [
      "d:\\python\\Lib\\site-packages\\huggingface_hub\\file_download.py:157: UserWarning: `huggingface_hub` cache-system uses symlinks by default to efficiently store duplicated files but your machine does not support them in C:\\Users\\User\\.cache\\huggingface\\hub\\models--sentence-transformers--all-mpnet-base-v2. Caching files will still work but in a degraded version that might require more space on your disk. This warning can be disabled by setting the `HF_HUB_DISABLE_SYMLINKS_WARNING` environment variable. For more details, see https://huggingface.co/docs/huggingface_hub/how-to-cache#limitations.\n",
      "To support symlinks on Windows, you either need to activate Developer Mode or to run Python as an administrator. In order to see activate developer mode, see this article: https://docs.microsoft.com/en-us/windows/apps/get-started/enable-your-device-for-development\n",
      "  warnings.warn(message)\n",
      "d:\\python\\Lib\\site-packages\\huggingface_hub\\file_download.py:1132: FutureWarning: `resume_download` is deprecated and will be removed in version 1.0.0. Downloads always resume when possible. If you want to force a new download, use `force_download=True`.\n",
      "  warnings.warn(\n",
      "Batches: 100%|██████████| 66/66 [06:14<00:00,  5.68s/it]\n"
     ]
    }
   ],
   "source": [
    "from sentence_transformers import SentenceTransformer\n",
    "def compile_text(x):\n",
    "    text = f\"\"\"\n",
    "              Faculty_domain: {x['Faculty_domain']},\n",
    "              Employed_Company_Name: {x['Employed_Company_Name']},\n",
    "              Industry_sector: {x['Industry_sector']},\n",
    "              Employed_Company_district: {x['Employed_Company_district']},\n",
    "              Employed_Company_state: {x['Employed_Company_state']},\n",
    "              Employed_Company_Address: {x['Employed_Company_Address']},\n",
    "              Main_job_scope: {x['Main_job_scope']},\n",
    "              Main_job_Title: {x['Main_job_Title']},\n",
    "              Work_in_the_same_field_of_learning: {x['Work_in_the_same_field_of_learning']},\n",
    "              Faculty_Description: {x['Faculty_Description']},\n",
    "              JS_Job_sub_sector: {x['JS_Job_sub_sector']},\n",
    "              Employed_Company_lat: {x['Employed_Company_lat']},\n",
    "              Faculty: {x['Faculty']},\n",
    "              Program_Description: {x['Program_Description']},\n",
    "              Employed_Company_Postcode: {x['Employed_Company_Postcode']},\n",
    "              Economic_sector: {x['Economic_sector']},\n",
    "              Current_Job_scope: {x['Current_Job_scope']}\n",
    "          \"\"\"\n",
    "    return text\n",
    "\n",
    "sentences = df.apply(lambda x: compile_text(x), axis=1).tolist()\n",
    "model = SentenceTransformer(r\"sentence-transformers/all-mpnet-base-v2\")\n",
    "#sentence-transformers/paraphrase-mpnet-base-v2\n",
    "output = model.encode(sentences=sentences, show_progress_bar= True, normalize_embeddings  = True)\n",
    "\n",
    "df_embedding = pd.DataFrame(output)\n",
    "df_embedding\n",
    "\n",
    "\n",
    "df_embedding.to_csv(\"embedding_MPNETFirstStructureMPNET.csv\",index = False)"
   ]
  },
  {
   "cell_type": "code",
   "execution_count": 3,
   "metadata": {},
   "outputs": [
    {
     "name": "stderr",
     "output_type": "stream",
     "text": [
      "Batches: 100%|██████████| 66/66 [05:39<00:00,  5.14s/it]\n"
     ]
    }
   ],
   "source": [
    "from sentence_transformers import SentenceTransformer\n",
    "def compile_text(x):\n",
    "    text = f\"\"\"\n",
    "    The faculty domain is {x['Faculty_domain']}. The individual is employed by {x['Employed_Company_Name']}, which operates in the {x['Industry_sector']} sector. \n",
    "    The company is located in the district of {x['Employed_Company_district']} in the state of {x['Employed_Company_state']}. \n",
    "    The company's address is {x['Employed_Company_Address']}. The main job scope of the individual is {x['Main_job_scope']}, and their job title is {x['Main_job_Title']}. \n",
    "    They work in the same field of learning: {x['Work_in_the_same_field_of_learning']}. \n",
    "    The faculty description is {x['Faculty_Description']}. The job sub-sector is {x['JS_Job_sub_sector']}. \n",
    "    The company is located at a latitude of {x['Employed_Company_lat']}. The faculty is {x['Faculty']}. \n",
    "    The program description is {x['Program_Description']}. The company’s postcode is {x['Employed_Company_Postcode']}. \n",
    "    The economic sector is {x['Economic_sector']}, and the current job scope is {x['Current_Job_scope']}.\n",
    "    \"\"\"\n",
    "    return text\n",
    "\n",
    "sentences = df.apply(lambda x: compile_text(x), axis=1).tolist()\n",
    "model = SentenceTransformer(r\"sentence-transformers/all-mpnet-base-v2\")\n",
    "#sentence-transformers/paraphrase-mpnet-base-v2\n",
    "output = model.encode(sentences=sentences, show_progress_bar= True, normalize_embeddings  = True)\n",
    "\n",
    "df_embedding = pd.DataFrame(output)\n",
    "df_embedding\n",
    "\n",
    "\n",
    "df_embedding.to_csv(\"embedding_MPNETSecondStructure.csv\",index = False)"
   ]
  },
  {
   "cell_type": "code",
   "execution_count": null,
   "metadata": {},
   "outputs": [],
   "source": [
    "import pandas as pd\n",
    "import numpy as np # linear algebra\n",
    "\n",
    "# Replace 'path_to_dataset' with the actual path to your dataset file\n",
    "df = pd.read_csv('embedding_trainmpnetdataset1.csv')\n",
    "df_embedding = df\n",
    "\n",
    "from sklearn.preprocessing import LabelEncoder\n",
    "label_encoder = LabelEncoder()\n",
    "\n",
    "\n",
    "# Initialize LabelEncoder for the target variable y\n",
    "label_encoder_y = LabelEncoder()\n",
    "y_encoded = label_encoder_y.fit_transform(y)"
   ]
  }
 ],
 "metadata": {
  "kernelspec": {
   "display_name": "Python 3",
   "language": "python",
   "name": "python3"
  },
  "language_info": {
   "codemirror_mode": {
    "name": "ipython",
    "version": 3
   },
   "file_extension": ".py",
   "mimetype": "text/x-python",
   "name": "python",
   "nbconvert_exporter": "python",
   "pygments_lexer": "ipython3",
   "version": "3.11.1"
  }
 },
 "nbformat": 4,
 "nbformat_minor": 2
}
